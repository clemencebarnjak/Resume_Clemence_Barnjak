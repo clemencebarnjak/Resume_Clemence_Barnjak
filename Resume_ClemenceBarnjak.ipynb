{
 "cells": [
  {
   "cell_type": "markdown",
   "metadata": {},
   "source": [
    "<h1 align=left><font size = 3></font></h1> "
   ]
  },
  {
   "cell_type": "markdown",
   "metadata": {},
   "source": [
    "<h1 align=left><font size = 3></font></h1> "
   ]
  },
  {
   "cell_type": "markdown",
   "metadata": {},
   "source": [
    "<a href=\"https://scontent-cdg2-1.xx.fbcdn.net/v/t1.15752-9/98000007_238614684090558_5720750521053085696_n.png?_nc_cat=104&_nc_sid=b96e70&_nc_ohc=Rtbv61l_X1EAX9sSVWp&_nc_ht=scontent-cdg2-1.xx&oh=3fd15f92c783f6ce7449c57fa7396ffb&oe=5EE61666\"><img src = \"https://scontent-cdg2-1.xx.fbcdn.net/v/t1.15752-9/98000007_238614684090558_5720750521053085696_n.png?_nc_cat=104&_nc_sid=b96e70&_nc_ohc=Rtbv61l_X1EAX9sSVWp&_nc_ht=scontent-cdg2-1.xx&oh=3fd15f92c783f6ce7449c57fa7396ffb&oe=5EE61666\" width = 700> </a>"
   ]
  },
  {
   "cell_type": "markdown",
   "metadata": {},
   "source": [
    "<h1 align=left><font size = 3></font></h1> "
   ]
  },
  {
   "cell_type": "markdown",
   "metadata": {},
   "source": [
    "# Table of Contents\n",
    "\n",
    "<div class=\"alert alert-block alert-info\" style=\"margin-top: 20px\">\n",
    "\n",
    "1. [Introduction](#0)<br>\n",
    "    a. [What are the fields of application of bioengineering ?](#1) <br>\n",
    "    b. [Who am I ?](#2) <br>\n",
    "    c. [Where did I live ?](#3) <br>\n",
    "    d. [In wich country am I willing to work ?](#4) <br>\n",
    "    e. [What are the progress I want to make ?](#5) <br>\n",
    "3. [Education](#6) <br>\n",
    "3. [Experiences](#7) <br>\n",
    "3. [Skills and hobbies](#8) <br>\n",
    "</div>\n",
    "<hr>"
   ]
  },
  {
   "cell_type": "markdown",
   "metadata": {},
   "source": [
    "# Introduction <a id=\"0\"></a>"
   ]
  },
  {
   "cell_type": "markdown",
   "metadata": {},
   "source": [
    "## What are the fields of application of bioengineering ? <a id=\"1\"></a>\n",
    "\n",
    "#### Bioengineering applies to the medical field, pharmaceutical industries, cosmetics, food industries, biotech companies, agriculture, water and environement..."
   ]
  },
  {
   "cell_type": "markdown",
   "metadata": {},
   "source": [
    "<h1 align=left><font size = 3></font></h1> "
   ]
  },
  {
   "cell_type": "markdown",
   "metadata": {},
   "source": [
    "## Who am I ? <a id=\"2\"></a>\n",
    "\n",
    "#### Passionated by bioengineering, I have working experiences in fundamental research, R&D, clinical development and gestion of projects both in public and private companies.\n",
    "\n",
    "#### My topics of interest are: molecular and genetic engineering, cell culture, omics, cancer, dermo-cosmetics, enzymes, computational biology, communication and coordination with coworkers, providers, colaborators...\n",
    "\n",
    "#### My main caracteristics are: curiousity, high desire to solve problem, proactive mindset and facility to communicate"
   ]
  },
  {
   "cell_type": "markdown",
   "metadata": {},
   "source": [
    "<h1 align=left><font size = 3></font></h1> "
   ]
  },
  {
   "cell_type": "markdown",
   "metadata": {},
   "source": [
    "## Where did I live ? <a id=\"3\"></a>\n",
    "\n",
    "#### I am born in France and lived most of the time there. I lived one year and a half in England, seven months in Germany and three months in Belgium. Internships abroad shown me the different ways of thinking of companies from different nationalities."
   ]
  },
  {
   "cell_type": "markdown",
   "metadata": {},
   "source": [
    "<h1 align=left><font size = 3></font></h1> "
   ]
  },
  {
   "cell_type": "markdown",
   "metadata": {},
   "source": [
    "## In wich country am I willing to work ? <a id=\"4\"></a>\n",
    "\n",
    "#### I am really flexible to work anywhere I will be entrusted with interesting missions. I enjoy using both technicals skills and communication as I am multilingual. French is my mother tongue. I speak fluent english and spanish and can handle basic conversation in german. "
   ]
  },
  {
   "cell_type": "markdown",
   "metadata": {},
   "source": [
    "<h1 align=left><font size = 3></font></h1> "
   ]
  },
  {
   "cell_type": "markdown",
   "metadata": {},
   "source": [
    "## What are the progress I want to make ? <a id=\"5\"></a>\n",
    "\n",
    "\n",
    "### I always want to improve my skills and I am currently growing my skills to be able:\n",
    "\n",
    "##### to use machine learning for cancer diagnosis and prediction\n",
    "\n",
    "##### to use computation biology for protein modelisation and drug design\n",
    "\n",
    "#### to use data science  to get the most of any data collected \n"
   ]
  },
  {
   "cell_type": "markdown",
   "metadata": {},
   "source": [
    "<h1 align=left><font size = 3></font></h1> "
   ]
  },
  {
   "cell_type": "markdown",
   "metadata": {},
   "source": [
    "<h1 align=left><font size = 3></font></h1> "
   ]
  },
  {
   "cell_type": "markdown",
   "metadata": {},
   "source": [
    "<h1 align=left><font size = 3></font></h1> "
   ]
  },
  {
   "cell_type": "markdown",
   "metadata": {},
   "source": [
    "# Education <a id=\"6\"></a>"
   ]
  },
  {
   "cell_type": "markdown",
   "metadata": {},
   "source": [
    "<a href=\"https://archipel.univ-toulouse.fr/img/logos/insa.png\"><img src = \"https://archipel.univ-toulouse.fr/img/logos/insa.png\" width = 300> </a>"
   ]
  },
  {
   "cell_type": "markdown",
   "metadata": {},
   "source": [
    "<a href=\"https://www.auf.org/wp-content/uploads/2017/04/image-4448-1.jpgg\"><img src = \"https://www.auf.org/wp-content/uploads/2017/04/image-4448-1.jpg\" width = 200> </a> "
   ]
  },
  {
   "cell_type": "markdown",
   "metadata": {},
   "source": [
    "### ==> MSc Bioengineering \n",
    "#### INSA Toulouse, France (graduation 2020)   \n",
    "#### Speciality for the final year of bioengineering : Computational Biology applied to Biotechnology - Partnership between INSA engineer school and INP-ENSAT"
   ]
  },
  {
   "cell_type": "markdown",
   "metadata": {},
   "source": [
    "<h1 align=left><font size = 3></font></h1> "
   ]
  },
  {
   "cell_type": "markdown",
   "metadata": {},
   "source": [
    "<h1 align=left><font size = 3></font></h1> "
   ]
  },
  {
   "cell_type": "markdown",
   "metadata": {},
   "source": [
    "<h1 align=left><font size = 3></font></h1> "
   ]
  },
  {
   "cell_type": "markdown",
   "metadata": {},
   "source": [
    "<a href=\"https://upload.wikimedia.org/wikipedia/commons/d/df/Universit%C3%A9_de_Rouen.png\"><img src = \"https://upload.wikimedia.org/wikipedia/commons/d/df/Universit%C3%A9_de_Rouen.png\" width = 200> </a>\n",
    "\n",
    "<a href=\"https://www.nae.fr/wp-content/uploads/2018/04/logo_ST_couleurs.png\"><img src = \"https://www.nae.fr/wp-content/uploads/2018/04/logo_ST_couleurs.png\" width = 200> </a>"
   ]
  },
  {
   "cell_type": "markdown",
   "metadata": {},
   "source": [
    "### ==> Master 1 Health and Biology\n",
    "#### University of Rouen, France (2018)"
   ]
  },
  {
   "cell_type": "markdown",
   "metadata": {},
   "source": [
    "### ==> BSc Biochemistry, molecular and cellular biology and physiology\n",
    "#### University of Rouen, France (2015)"
   ]
  },
  {
   "cell_type": "markdown",
   "metadata": {},
   "source": [
    "<h1 align=left><font size = 3></font></h1> "
   ]
  },
  {
   "cell_type": "markdown",
   "metadata": {},
   "source": [
    "<h1 align=left><font size = 3></font></h1> "
   ]
  },
  {
   "cell_type": "markdown",
   "metadata": {},
   "source": [
    "<h1 align=left><font size = 3></font></h1> "
   ]
  },
  {
   "cell_type": "markdown",
   "metadata": {},
   "source": [
    "# Experiences <a id=\"7\"></a>"
   ]
  },
  {
   "cell_type": "markdown",
   "metadata": {},
   "source": [
    "<a href=\"https://www.decisionsdurables.com/wp-content/uploads/2016/02/new_pf_logo_in_jpg.jpg\"><img src = \"https://www.decisionsdurables.com/wp-content/uploads/2016/02/new_pf_logo_in_jpg.jpg\" width = 300> </a>"
   ]
  },
  {
   "cell_type": "markdown",
   "metadata": {},
   "source": [
    "### ==> Intern in charge of the clinical developement of sunscreens           \n",
    "\n",
    "#### Pierre Fabre Group - Dermo-cosmetics (6 months)\n",
    "\n",
    "#### Project: clinical developpement of the new selection of sunscreen Avène. Coordination of the clinical trials by working with the providers (CRO Contact Research Organisation), the galenics department and marketing. Make sure that the studies are following the reglementation (ISO, COLIPA...)  "
   ]
  },
  {
   "cell_type": "markdown",
   "metadata": {},
   "source": [
    "<h1 align=left><font size = 3></font></h1> "
   ]
  },
  {
   "cell_type": "markdown",
   "metadata": {},
   "source": [
    "<h1 align=left><font size = 3></font></h1> "
   ]
  },
  {
   "cell_type": "markdown",
   "metadata": {},
   "source": [
    "<a href=\"https://www.pagesjaunes.fr/media/ugc/patisfrance_puratos_03301450_100657056\"><img src = \"https://www.pagesjaunes.fr/media/ugc/patisfrance_puratos_03301450_100657056\" width = 200> </a>"
   ]
  },
  {
   "cell_type": "markdown",
   "metadata": {},
   "source": [
    "### ==> Intern R&D Enzymes - genetic engineering and E. coli culture \n",
    "\n",
    "#### Puratos Group - Fermentation center (3 months)\n",
    "\n",
    "#### Project: Plasmids construction to have the heterologous expression of enzymes usefull for the bread making industry   "
   ]
  },
  {
   "cell_type": "markdown",
   "metadata": {},
   "source": [
    "<h1 align=left><font size = 3></font></h1> "
   ]
  },
  {
   "cell_type": "markdown",
   "metadata": {},
   "source": [
    "<h1 align=left><font size = 3></font></h1> "
   ]
  },
  {
   "cell_type": "markdown",
   "metadata": {},
   "source": [
    "<a href=\"https://www.uniklinikum-dresden.de/de/forschung-lehre-und-bildung/kfo-252/header_kfo.jpg\"><img src = \"https://www.uniklinikum-dresden.de/de/forschung-lehre-und-bildung/kfo-252/header_kfo.jpg\" width = 300> </a>"
   ]
  },
  {
   "cell_type": "markdown",
   "metadata": {},
   "source": [
    "### ==> Research intern - molecular biology, genetic engineering and cancer cell culture       \n",
    "\n",
    "#### German laboratory of neurochemistry on the campus of the university of medicine (6 months)     \n",
    "\n",
    "#### Project: Knock down and knock out of proteins of interest in cancer cells to understand the agressiveness (viability, migration...) of different adrenal cancer phenotypes according to the profile of protein expression (MYC/MAX)"
   ]
  },
  {
   "cell_type": "markdown",
   "metadata": {},
   "source": [
    "<h1 align=left><font size = 3></font></h1> "
   ]
  },
  {
   "cell_type": "markdown",
   "metadata": {},
   "source": [
    "<h1 align=left><font size = 3></font></h1> "
   ]
  },
  {
   "cell_type": "markdown",
   "metadata": {},
   "source": [
    "<a href=\"https://scontent-cdg2-1.xx.fbcdn.net/v/t1.15752-9/99297219_1184265015257711_571391612857352192_n.jpg?_nc_cat=104&_nc_sid=b96e70&_nc_ohc=81qwhNX8bz8AX-eP60g&_nc_ht=scontent-cdg2-1.xx&oh=2ee04e142aebac8b46f12ea4eee3434e&oe=5EE74665\"><img src = \"https://scontent-cdg2-1.xx.fbcdn.net/v/t1.15752-9/99297219_1184265015257711_571391612857352192_n.jpg?_nc_cat=104&_nc_sid=b96e70&_nc_ohc=81qwhNX8bz8AX-eP60g&_nc_ht=scontent-cdg2-1.xx&oh=2ee04e142aebac8b46f12ea4eee3434e&oe=5EE74665\" width = 300> </a>"
   ]
  },
  {
   "cell_type": "markdown",
   "metadata": {},
   "source": [
    "### ==> Research intern - molecular biology, genetic engineering, immunohistochemistry and imaging                            \n",
    "\n",
    "#### French national laboratory INSERM U982 on the campus of the university of science and technology (1 months and a half)              \n",
    "#### Project: Analysing the expression of foetal adrenal enzymes  from human samples from the hospital by Immunohistochemistry, fluorrescence microscopy, molecular biology and genetics."
   ]
  },
  {
   "cell_type": "markdown",
   "metadata": {},
   "source": [
    "<h1 align=left><font size = 3></font></h1> "
   ]
  },
  {
   "cell_type": "markdown",
   "metadata": {},
   "source": [
    "<h1 align=left><font size = 3></font></h1> "
   ]
  },
  {
   "cell_type": "markdown",
   "metadata": {},
   "source": [
    "### ==> Other professional experiences\n",
    "#### Including math teaching in France and cashier in Germany"
   ]
  },
  {
   "cell_type": "markdown",
   "metadata": {},
   "source": [
    "<a href=\"https://scontent-cdt1-1.xx.fbcdn.net/v/t1.15752-9/93414230_762519374279346_5584577032450211840_n.png?_nc_cat=103&_nc_sid=b96e70&_nc_ohc=W1is5vXQH7YAX9eBthz&_nc_ht=scontent-cdt1-1.xx&oh=ab1a688674783dc2ae6c27acd5ca91bf&oe=5EE51660\" width = 200> </a>"
   ]
  },
  {
   "cell_type": "markdown",
   "metadata": {},
   "source": [
    "<a href=\"https://scontent-cdt1-1.xx.fbcdn.net/v/t1.15752-9/93414230_762519374279346_5584577032450211840_n.png?_nc_cat=103&_nc_sid=b96e70&_nc_ohc=W1is5vXQH7YAX9eBthz&_nc_ht=scontent-cdt1-1.xx&oh=ab1a688674783dc2ae6c27acd5ca91bf&oe=5EE51660\"><img src = \"https://scontent-cdt1-1.xx.fbcdn.net/v/t1.15752-9/93414230_762519374279346_5584577032450211840_n.png?_nc_cat=103&_nc_sid=b96e70&_nc_ohc=W1is5vXQH7YAX9eBthz&_nc_ht=scontent-cdt1-1.xx&oh=ab1a688674783dc2ae6c27acd5ca91bf&oe=5EE51660\" width = 200> </a>"
   ]
  },
  {
   "cell_type": "markdown",
   "metadata": {},
   "source": [
    "<a href=\"https://www.carte-familles-nombreuses.fr/public/2018/02/Logo-CPL-SS.jpg\"><img src = \"https://www.carte-familles-nombreuses.fr/public/2018/02/Logo-CPL-SS.jpg\" width = 200> </a>"
   ]
  },
  {
   "cell_type": "markdown",
   "metadata": {},
   "source": [
    "<a href=\"https://scontent-cdg2-1.xx.fbcdn.net/v/t1.15752-9/98323364_2564328003779129_4375759350279438336_n.png?_nc_cat=108&_nc_sid=b96e70&_nc_ohc=jmqzTpl2ffcAX_R1VcC&_nc_ht=scontent-cdg2-1.xx&oh=0c00bc62ce89d93d49c5d5c4f58a70b2&oe=5EE45EC5\"><img src = \"https://scontent-cdg2-1.xx.fbcdn.net/v/t1.15752-9/98323364_2564328003779129_4375759350279438336_n.png?_nc_cat=108&_nc_sid=b96e70&_nc_ohc=jmqzTpl2ffcAX_R1VcC&_nc_ht=scontent-cdg2-1.xx&oh=0c00bc62ce89d93d49c5d5c4f58a70b2&oe=5EE45EC5\" width = 200> </a>"
   ]
  },
  {
   "cell_type": "markdown",
   "metadata": {},
   "source": [
    "<h1 align=left><font size = 3></font></h1> "
   ]
  },
  {
   "cell_type": "markdown",
   "metadata": {},
   "source": [
    "<h1 align=left><font size = 3></font></h1> "
   ]
  },
  {
   "cell_type": "markdown",
   "metadata": {},
   "source": [
    "# Skills and hobbies <a id=\"8\"></a>"
   ]
  },
  {
   "cell_type": "markdown",
   "metadata": {},
   "source": [
    "#### - Playing piano and cello (certificates from conservatory of music)\n",
    "\n",
    "#### - Passionated about traveling, learning languages, interacting with people and discovering new cultures and environments (English score TOEIC 935 and C1)\n",
    "\n",
    "#### - Enjoying the nature and doing photography\n",
    "\n",
    "#### - Regularly inventing new dishes\n",
    "\n",
    "#### - Some accomplishments : I did volonteer work, taught english to portuguese migrants in UK community center, joined hospital and bank appointments and did translation (spanish/english) to help spanish speakers in London, directed a choir, regularly playing piano for large group of people\n",
    "\n",
    "#### - Recently got fascinated by informatic languages and taking online courses (certifications and badges are displayed on my LindedIn profile)"
   ]
  },
  {
   "cell_type": "markdown",
   "metadata": {},
   "source": [
    "### <h1 align=left><font size = 3></font></h1> "
   ]
  },
  {
   "cell_type": "markdown",
   "metadata": {},
   "source": [
    "### <h1 align=left><font size = 3></font></h1> "
   ]
  },
  {
   "cell_type": "markdown",
   "metadata": {},
   "source": [
    "### <h1 align=center>~ Hope I can be useful to individuals, companies and to the community ~<font size = 3></font></h1> "
   ]
  },
  {
   "cell_type": "markdown",
   "metadata": {},
   "source": [
    "### <h1 align=left><font size = 3></font></h1> "
   ]
  },
  {
   "cell_type": "markdown",
   "metadata": {},
   "source": [
    " ###### <h1 align=left>Please, do not hesitate to contact me. I hope I can be a good addition either to your company or network. I believe building network leads to inspiration and emulation.<font size = 1></font></h1> <h1 align=right>clemence.barnjak@gmail.com"
   ]
  },
  {
   "cell_type": "markdown",
   "metadata": {},
   "source": [
    "<h1 align=left><font size = 3></font></h1> "
   ]
  }
 ],
 "metadata": {
  "celltoolbar": "Format de la Cellule Texte Brut",
  "kernelspec": {
   "display_name": "Python 3",
   "language": "python",
   "name": "python3"
  },
  "language_info": {
   "codemirror_mode": {
    "name": "ipython",
    "version": 3
   },
   "file_extension": ".py",
   "mimetype": "text/x-python",
   "name": "python",
   "nbconvert_exporter": "python",
   "pygments_lexer": "ipython3",
   "version": "3.7.6"
  }
 },
 "nbformat": 4,
 "nbformat_minor": 4
}
