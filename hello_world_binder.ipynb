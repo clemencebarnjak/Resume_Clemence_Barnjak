{
 "cells": [
  {
   "cell_type": "code",
   "execution_count": 1,
   "metadata": {},
   "outputs": [
    {
     "name": "stdout",
     "output_type": "stream",
     "text": [
      "hello world\n"
     ]
    }
   ],
   "source": [
    " print('hello world')"
   ]
  },
  {
   "cell_type": "code",
   "execution_count": null,
   "metadata": {},
   "outputs": [],
   "source": []
  }
 ],
 "metadata": {
  "kernelspec": {
   "display_name": "Python 3",
   "language": "python",
   "name": "python3"
  },
  "language_info": {
   "codemirror_mode": {
    "name": "ipython",
    "version": 3
   },
   "file_extension": ".py",
   "mimetype": "text/x-python",
   "name": "python",
   "nbconvert_exporter": "python",
   "pygments_lexer": "ipython3",
   "version": "3.7.6"
  }
 },
 "nbformat": 4,
 "nbformat_minor": 4
}
























{
 "cells": [
  {
   "cell_type": "markdown",
   "metadata": {},
   "source": [
    "<a href=\"https://www.enfoiros.org/storage/sponsorsLogo/058ca9249ed420880f2c5c020f402a76.png\"><img src = \"https://www.enfoiros.org/storage/sponsorsLogo/058ca9249ed420880f2c5c020f402a76.png\" width = 100> </a>\n",
    "<a href=\"https://www.auf.org/wp-content/uploads/2017/04/image-4448-1.jpgg\"><img src = \"https://www.auf.org/wp-content/uploads/2017/04/image-4448-1.jpg\" width = 200> </a> "
   ]
  },
  {
   "cell_type": "markdown",
   "metadata": {},
   "source": [
    "<h1 align=center><font size = 3></font></h1>\n",
    "\n",
    "<h1 align=center><font size = 16>- Bioengineering -</font></h1>\n",
    "\n",
    "\n",
    "<h1 align=center><font size = 5>Clémence Barnjak</font></h1>  \n",
    "\n",
    "    "
   ]
  },
  {
   "cell_type": "markdown",
   "metadata": {},
   "source": [
    "# Table of Contents\n",
    "\n",
    "<div class=\"alert alert-block alert-info\" style=\"margin-top: 20px\">\n",
    "\n",
    "1. [Education](#0)<br>\n",
    "2. [Experiences](#2) <br>\n",
    "3. [Skills and hobbies](#4) <br>\n",
    "</div>\n",
    "<hr>"
   ]
  },
  {
   "cell_type": "markdown",
   "metadata": {},
   "source": [
    "# Education <a id=\"0\"></a>"
   ]
  },
  {
   "cell_type": "markdown",
   "metadata": {},
   "source": [
    "<h1 align=left><font size = 3>MSc Bioengineering - INSA Toulouse, France (graduation 2020)</font></h1> \n",
    "<h1 align=left><font size = 3>Speciality for the final year of bioengineering : Computational Biology applied to Biotechnology - Partnership between INSA engineer school and INP-ENSAT</font></h1>\n",
    "\n",
    "<h1 align=left><font size = 3></font></h1>\n",
    "\n",
    "\n",
    "<h1 align=left><font size = 3>Master 1 Health and Biology - University of Rouen, France (2018)</font></h1> \n",
    "\n",
    "<h1 align=left><font size = 3>BSc Biochemistry, molecular and cellular biology and physiology - University of Rouen, France (2015)</font></h1> "
   ]
  },
  {
   "cell_type": "markdown",
   "metadata": {},
   "source": [
    "# Experiences <a id=\"2\"></a>"
   ]
  },
  {
   "cell_type": "code",
   "execution_count": null,
   "metadata": {},
   "outputs": [],
   "source": []
  },
  {
   "cell_type": "markdown",
   "metadata": {},
   "source": [
    "# Skills and hobbies <a id=\"4\"></a>"
   ]
  },
  {
   "cell_type": "code",
   "execution_count": null,
   "metadata": {},
   "outputs": [],
   "source": []
  }
 ],
 "metadata": {
  "kernelspec": {
   "display_name": "Python 3",
   "language": "python",
   "name": "python3"
  },
  "language_info": {
   "codemirror_mode": {
    "name": "ipython",
    "version": 3
   },
   "file_extension": ".py",
   "mimetype": "text/x-python",
   "name": "python",
   "nbconvert_exporter": "python",
   "pygments_lexer": "ipython3",
   "version": "3.7.6"
  }
 },
 "nbformat": 4,
 "nbformat_minor": 4
}
